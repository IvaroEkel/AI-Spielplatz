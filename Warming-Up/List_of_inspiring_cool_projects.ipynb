{
 "cells": [
  {
   "cell_type": "markdown",
   "id": "f26e18cf",
   "metadata": {},
   "source": [
    "# Everything from custom cloud storage (NAS) to computer vision.\n",
    "\n",
    "### Are you excited about our AI-Spielplatz workshop? We definitely are! Here we will provide you with some resources that are meant to serve as inspiration for your own project during the workshop. The intention then is for you to get some ideas rather than to copy the projects in the videos. The time limitation of one-week for our worshop is a bit short for a very ambitious project, so we recommend to keep it simple and focus on the learning experience, taking instead some parts as inspiration for your own project. The idea is that you will get ton understand the basics of the technology and then you can build on top of that later on!\n",
    "\n",
    " - [ 6 Great Raspberry Pi 5 Projects to try in 2025! ](https://www.youtube.com/watch?v=Q8WpQNG31mA)\n",
    " - [ 20 Best Computer Vision Projects for 2025! ](https://www.youtube.com/watch?v=eCDTp5h59hg)\n",
    " - [ OpenAI's nightmare: Deepseek R1 on a Raspberry Pi ](https://www.youtube.com/watch?v=o1sN1lB76EA)\n"
   ]
  },
  {
   "cell_type": "markdown",
   "id": "5efc8aaf",
   "metadata": {},
   "source": []
  },
  {
   "cell_type": "markdown",
   "id": "6f016a29",
   "metadata": {},
   "source": []
  }
 ],
 "metadata": {
  "language_info": {
   "name": "python"
  }
 },
 "nbformat": 4,
 "nbformat_minor": 5
}
