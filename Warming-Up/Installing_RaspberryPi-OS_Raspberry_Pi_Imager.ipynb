{
 "cells": [
  {
   "cell_type": "markdown",
   "id": "c1b3ac7d",
   "metadata": {},
   "source": [
    "#  Install Raspberry Pi OS in a micro SD card\n",
    "### to use Raspberry pi-connect for easy headless setup, you need to create a Raspberry Pi ID: https://id.raspberrypi.com/sign-up\n",
    "\n",
    "  - Download the Raspberry Pi Imager from the official website: https://www.raspberrypi.com/software/\n",
    "  - Execute: \n",
    "  ```bash\n",
    "    sudo apt install /path/to/imager*.deb\n",
    "  ```\n",
    "  - Insert the micro SD card into your computer.\n",
    "  - Open the Raspberry Pi Imager.\n",
    "  - Select the hardware you want to install the OS on (e.g., Raspberry Pi 5).\n",
    "  - Select the OS you want to install (e.g., Raspberry Pi OS)\n",
    "  - Select the micro SD card as the target device.\n",
    "  - Configure options like Wi-Fi, SSH, and locale settings if needed.\n",
    "  - Click \"Write\" to start the installation process.\n",
    "  - Wait for the process to complete, then safely eject the micro SD card."
   ]
  },
  {
   "cell_type": "markdown",
   "id": "26018054",
   "metadata": {},
   "source": [
    "# Run headless Raspberry Pi OS [check](https://projects.raspberrypi.org/en/projects/raspberry-pi-setting-up/3)\n",
    "\n",
    "To run the Raspberry Pi OS headless (without a monitor or keyboard), follow these steps:\n",
    "\n",
    "  - Insert the micro SD card into the Raspberry Pi.\n",
    "  - Connect the Raspberry Pi to a power source.\n",
    "  - Wait for the Raspberry Pi to boot up (this may take a few minutes).\n",
    "  - You can connect to your Raspberry Pi remotely over a network.\n",
    "  - With Raspberry Pi Connect, you can run your Raspberry Pi from a second computer over the Internet.\n",
    "  - When your Pi has powered up, open a Terminal window on your other computer and type:\n",
    "    ```bash\n",
    "    ssh <username>@<hostname>.local  # sometimes ssh pi@<hostname>.local\n",
    "    ```\n",
    "  - Start the Raspberry Pi Connect service for your current user:\n",
    "    ```bash\n",
    "    rpi-connect on\n",
    "    ```\n",
    "  - Sign in:\n",
    "    ```bash\n",
    "    rpi-connect signin\n",
    "    ```\n",
    "  - You should see something like this:\n",
    "    ```bash\n",
    "    Complete sign in by visiting https://connect.raspberrypi.com/verify/XXXX-XXXX\n",
    "    ```\n",
    "  - Visit the verification URL on any device and sign in with your Raspberry Pi ID to link your device with your Connect account. You will get an email to confirm.\n",
    "  - Name your device.\n",
    "  - Connect to your Raspberry Pi via Screen sharing or Remote shell (command line).\n",
    "\n",
    "\n"
   ]
  },
  {
   "cell_type": "markdown",
   "id": "51f94b78",
   "metadata": {},
   "source": []
  }
 ],
 "metadata": {
  "language_info": {
   "name": "python"
  }
 },
 "nbformat": 4,
 "nbformat_minor": 5
}
