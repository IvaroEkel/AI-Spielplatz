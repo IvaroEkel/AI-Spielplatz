{
  "cells": [
    {
      "cell_type": "markdown",
      "id": "2616fe4b-af9e-49c2-962d-7d36d3cf0c2c",
      "metadata": {
        "id": "2616fe4b-af9e-49c2-962d-7d36d3cf0c2c"
      },
      "source": [
        "[![Open in Colab](https://colab.research.google.com/assets/colab-badge.svg)](https://colab.research.google.com/github/IvaroEkel/AI-Spielplatz/blob/main/Tutorials/Basics/Git_Basics_Tutorial.ipynb)"
      ]
    },
    {
      "cell_type": "markdown",
      "id": "de783ac2",
      "metadata": {
        "id": "de783ac2"
      },
      "source": [
        "# Git Tutorial: Cloning and Working with a Repository\n",
        "\n",
        "## Introduction\n",
        "Git is a version control system that allows developers to track changes, collaborate on projects, and manage codebases efficiently. In this tutorial, you'll learn how to:\n",
        "- Clone the `AI-Spielplatz` repository.\n",
        "- Work within the cloned repository.\n",
        "- Detach from the remote repository if needed."
      ]
    },
    {
      "cell_type": "markdown",
      "id": "d0f5a784",
      "metadata": {
        "id": "d0f5a784"
      },
      "source": [
        "## Prerequisites\n",
        "Before starting, ensure the following:\n",
        "1. **Git Installed**: Install Git on your system. Download it from [git-scm.com](https://git-scm.com/).\n",
        "2. **GitHub Account**: A GitHub account is required if you plan to push changes back to a repository. Authentication in a local machine is done now using personal access tokens, therefore you will need to [configure a token](https://docs.github.com/en/authentication/keeping-your-account-and-data-secure/managing-your-personal-access-tokens).\n",
        "3. **Access to the Repository**: Ensure the repository you want to clone is public or that you have the necessary permissions if it's private.\n"
      ]
    },
    {
      "cell_type": "markdown",
      "id": "21066ef6",
      "metadata": {
        "id": "21066ef6"
      },
      "source": [
        "## Step 1: Cloning the Repository\n",
        "To clone the `AI-Spielplatz` repository:\n",
        "1. Open a terminal, command prompt or VS Code IDE.\n",
        "2. Navigate to the directory where you want to clone the repository.\n",
        "3. Run the following command:\n",
        "   ```bash\n",
        "   git clone https://github.com/IvaroEkel/AI-Spielplatz.git\n",
        "   ```\n",
        "4. After cloning, navigate into the repository directory:\n",
        "   ```bash\n",
        "   cd AI-Spielplatz\n",
        "   ```\n",
        "\n",
        "You now have a local copy of the repository on your machine. This will be the basis for all the workshop and is kind of a template but feel free to find or apply your own structure. But maybe this helps and is a good startng point. :)   "
      ]
    },
    {
      "cell_type": "markdown",
      "id": "d837bcb7",
      "metadata": {
        "id": "d837bcb7"
      },
      "source": [
        "## Step 2: Working Within the Repository\n",
        "Once inside the repository, you can:\n",
        "- **View Repository Status**:\n",
        "  ```bash\n",
        "  git status\n",
        "  ```\n",
        "  This shows changes, staged files, and the branch you're on.\n",
        "\n",
        "- **Make Changes and Stage Them**:\n",
        "  Modify files and add them to the staging area:\n",
        "  ```bash\n",
        "  git add <file_name>\n",
        "  ```\n",
        "  Or add all changes:\n",
        "  ```bash\n",
        "  git add .\n",
        "  ```\n",
        "\n",
        "- **Commit Changes**:\n",
        "  Save your changes with a meaningful message:\n",
        "  ```bash\n",
        "  git commit -m \"Your commit message\"\n",
        "  ```\n",
        "\n",
        "- **Push Changes to Remote**:\n",
        "  Send your changes to the remote repository (if you have write access):\n",
        "  ```bash\n",
        "  git push origin main\n",
        "  ```"
      ]
    },
    {
      "cell_type": "markdown",
      "id": "e0fdf5af",
      "metadata": {
        "id": "e0fdf5af"
      },
      "source": [
        "## Step 3: Detaching from the Remote Repository\n",
        "If you want to stop tracking the repository remotely, you can remove the origin URL:\n",
        "1. View the current remote URL:\n",
        "   ```bash\n",
        "   git remote -v\n",
        "   ```\n",
        "2. Remove the remote origin:\n",
        "   ```bash\n",
        "   git remote remove origin\n",
        "   ```\n",
        "\n",
        "Your local repository is now disconnected from the remote repository."
      ]
    },
    {
      "cell_type": "markdown",
      "id": "7a07952e",
      "metadata": {
        "id": "7a07952e"
      },
      "source": [
        "## Step 4: Additional Git Commands\n",
        "Here are some useful Git commands:\n",
        "- **Pull Changes from Remote**: Update your local repository with the latest changes:\n",
        "  ```bash\n",
        "  git pull origin main\n",
        "  ```\n",
        "\n",
        "- **View Commit History**: See all previous commits:\n",
        "  ```bash\n",
        "  git log\n",
        "  ```\n",
        "\n",
        "- **Create a New Branch**: Work on a new feature or fix in isolation:\n",
        "  ```bash\n",
        "  git checkout -b new-branch-name\n",
        "  ```\n",
        "\n",
        "- **Switch Between Branches**:\n",
        "  ```bash\n",
        "  git checkout branch-name\n",
        "  ```"
      ]
    },
    {
      "cell_type": "markdown",
      "id": "1b358752",
      "metadata": {
        "id": "1b358752"
      },
      "source": [
        "## Summary\n",
        "\n",
        "- Cloning a repository is the first step to work on collaborative projects.\n",
        "- Git allows you to track changes, commit updates, and push changes to a remote repository.\n",
        "- You can detach your local repository from the remote repository if needed.\n",
        "\n",
        "By following this guide, you'll be able to work efficiently with Git and manage code in a collaborative environment."
      ]
    }
  ],
  "metadata": {
    "kernelspec": {
      "display_name": "Python 3 (ipykernel)",
      "language": "python",
      "name": "python3"
    },
    "language_info": {
      "codemirror_mode": {
        "name": "ipython",
        "version": 3
      },
      "file_extension": ".py",
      "mimetype": "text/x-python",
      "name": "python",
      "nbconvert_exporter": "python",
      "pygments_lexer": "ipython3",
      "version": "3.12.6"
    },
    "colab": {
      "provenance": []
    }
  },
  "nbformat": 4,
  "nbformat_minor": 5
}