{
 "cells": [
  {
   "cell_type": "markdown",
   "id": "55133770-292c-4eae-b8ec-6ca3c90f628f",
   "metadata": {},
   "source": [
    "[![Open in Colab](https://colab.research.google.com/assets/colab-badge.svg)](https://colab.research.google.com/github/IvaroEkel/AI-Spielplatz/blob/main/Tutorials/Basics/Introduction_to_Jupyter_and_Colab.ipynb)"
   ]
  },
  {
   "cell_type": "markdown",
   "id": "e7eeebe9",
   "metadata": {},
   "source": [
    "# Introduction to Jupyter Notebooks and Google Colab\n",
    "\n",
    "## What are Jupyter Notebooks?\n",
    "Jupyter Notebooks are an open-source web application that allows you to create and share documents containing:\n",
    "- Live code\n",
    "- Equations\n",
    "- Visualizations\n",
    "- Text explanations\n",
    "\n",
    "They are widely used in data science, machine learning, and scientific computing due to their interactive nature."
   ]
  },
  {
   "cell_type": "markdown",
   "id": "650681cc",
   "metadata": {},
   "source": [
    "## What is Google Colab?\n",
    "\n",
    "Google Colab (short for Colaboratory) is a free cloud-based platform provided by Google that allows you to:\n",
    "- Run Jupyter Notebooks in the cloud without any setup.\n",
    "- Leverage free GPU and TPU resources for accelerated computations.\n",
    "- Share and collaborate on notebooks easily with others.\n",
    "\n",
    "### Key Benefits:\n",
    "- No installation required; everything runs in your browser.\n",
    "- Free compute resources for experimentation and learning.\n",
    "- Integrated with Google Drive for seamless file management."
   ]
  },
  {
   "cell_type": "markdown",
   "id": "b993aeac",
   "metadata": {},
   "source": [
    "## How to Use Google Colab\n",
    "\n",
    "1. **Access Google Colab**:\n",
    "   - Go to [Google Colab](https://colab.research.google.com/).\n",
    "\n",
    "2. **Create a New Notebook**:\n",
    "   - Click on \"File\" > \"New Notebook\".\n",
    "\n",
    "3. **Connect to Runtime**:\n",
    "   - Click on \"Connect\" in the top-right corner to connect to a cloud runtime.\n",
    "\n",
    "4. **Write and Execute Code**:\n",
    "   - Add a code cell by clicking on the \"+ Code\" button.\n",
    "   - Write Python code and execute it by pressing `Shift + Enter`.\n",
    "\n",
    "5. **Upload and Download Files**:\n",
    "   - Use the file browser on the left to upload or download files.\n",
    "\n",
    "6. **Save Your Work**:\n",
    "   - Save notebooks to your Google Drive or download them as `.ipynb` files."
   ]
  },
  {
   "cell_type": "markdown",
   "id": "856e69ce",
   "metadata": {},
   "source": [
    "## Prerequisites for Google Colab\n",
    "\n",
    "You only need a Google account to start using Google Colab. All computations are performed in the cloud, so there's no need to install Python or any libraries locally."
   ]
  },
  {
   "cell_type": "markdown",
   "id": "92a69b8b",
   "metadata": {},
   "source": [
    "## Summary\n",
    "\n",
    "- **Jupyter Notebooks** are powerful tools for interactive programming and data analysis.\n",
    "- **Google Colab** makes Jupyter Notebooks accessible to everyone via the cloud, with no setup required.\n",
    "- You can use Colab to run Python code, experiment with machine learning models, and collaborate on projects."
   ]
  }
 ],
 "metadata": {
  "kernelspec": {
   "display_name": "Python 3 (ipykernel)",
   "language": "python",
   "name": "python3"
  },
  "language_info": {
   "codemirror_mode": {
    "name": "ipython",
    "version": 3
   },
   "file_extension": ".py",
   "mimetype": "text/x-python",
   "name": "python",
   "nbconvert_exporter": "python",
   "pygments_lexer": "ipython3",
   "version": "3.12.6"
  }
 },
 "nbformat": 4,
 "nbformat_minor": 5
}
