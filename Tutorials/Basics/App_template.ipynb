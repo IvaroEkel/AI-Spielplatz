{
 "cells": [
  {
   "cell_type": "markdown",
   "id": "30d0c655",
   "metadata": {},
   "source": [
    "[![Open in Colab](https://colab.research.google.com/assets/colab-badge.svg)](https://colab.research.google.com/github/IvaroEkel/AI-Spielplatz/blob/main/Tutorials/Basics/App_template.ipynb)"
   ]
  },
  {
   "cell_type": "markdown",
   "id": "5530435d",
   "metadata": {},
   "source": [
    "# 🎨 AI Color Classifier – Supervised Learning as a basic ai-example\n",
    "This interactive notebook demonstrates the core AI pipeline using **supervised learning**.\n",
    "We’ll collect RGB data **with color labels**, train a neural network, and evaluate predictions.\n",
    "\n",
    "🔁 **Steps:** Data Collection → Training → Evaluation (supervised classification)"
   ]
  },
  {
   "cell_type": "code",
   "execution_count": 6,
   "id": "84917e30",
   "metadata": {},
   "outputs": [
    {
     "name": "stdout",
     "output_type": "stream",
     "text": [
      "Requirement already satisfied: gradio in d:\\oliverwelz\\_demobau\\ai-spielplatz\\.venv\\lib\\site-packages (5.29.0)\n",
      "Requirement already satisfied: torch in d:\\oliverwelz\\_demobau\\ai-spielplatz\\.venv\\lib\\site-packages (2.7.0)\n",
      "Requirement already satisfied: matplotlib in d:\\oliverwelz\\_demobau\\ai-spielplatz\\.venv\\lib\\site-packages (3.10.1)\n",
      "Collecting scikit-learn\n",
      "  Using cached scikit_learn-1.6.1-cp312-cp312-win_amd64.whl.metadata (15 kB)\n",
      "Requirement already satisfied: aiofiles<25.0,>=22.0 in d:\\oliverwelz\\_demobau\\ai-spielplatz\\.venv\\lib\\site-packages (from gradio) (24.1.0)\n",
      "Requirement already satisfied: anyio<5.0,>=3.0 in d:\\oliverwelz\\_demobau\\ai-spielplatz\\.venv\\lib\\site-packages (from gradio) (4.8.0)\n",
      "Requirement already satisfied: fastapi<1.0,>=0.115.2 in d:\\oliverwelz\\_demobau\\ai-spielplatz\\.venv\\lib\\site-packages (from gradio) (0.115.12)\n",
      "Requirement already satisfied: ffmpy in d:\\oliverwelz\\_demobau\\ai-spielplatz\\.venv\\lib\\site-packages (from gradio) (0.5.0)\n",
      "Requirement already satisfied: gradio-client==1.10.0 in d:\\oliverwelz\\_demobau\\ai-spielplatz\\.venv\\lib\\site-packages (from gradio) (1.10.0)\n",
      "Requirement already satisfied: groovy~=0.1 in d:\\oliverwelz\\_demobau\\ai-spielplatz\\.venv\\lib\\site-packages (from gradio) (0.1.2)\n",
      "Requirement already satisfied: httpx>=0.24.1 in d:\\oliverwelz\\_demobau\\ai-spielplatz\\.venv\\lib\\site-packages (from gradio) (0.28.1)\n",
      "Requirement already satisfied: huggingface-hub>=0.28.1 in d:\\oliverwelz\\_demobau\\ai-spielplatz\\.venv\\lib\\site-packages (from gradio) (0.30.2)\n",
      "Requirement already satisfied: jinja2<4.0 in d:\\oliverwelz\\_demobau\\ai-spielplatz\\.venv\\lib\\site-packages (from gradio) (3.1.5)\n",
      "Requirement already satisfied: markupsafe<4.0,>=2.0 in d:\\oliverwelz\\_demobau\\ai-spielplatz\\.venv\\lib\\site-packages (from gradio) (3.0.2)\n",
      "Requirement already satisfied: numpy<3.0,>=1.0 in d:\\oliverwelz\\_demobau\\ai-spielplatz\\.venv\\lib\\site-packages (from gradio) (2.2.5)\n",
      "Requirement already satisfied: orjson~=3.0 in d:\\oliverwelz\\_demobau\\ai-spielplatz\\.venv\\lib\\site-packages (from gradio) (3.10.18)\n",
      "Requirement already satisfied: packaging in d:\\oliverwelz\\_demobau\\ai-spielplatz\\.venv\\lib\\site-packages (from gradio) (24.2)\n",
      "Requirement already satisfied: pandas<3.0,>=1.0 in d:\\oliverwelz\\_demobau\\ai-spielplatz\\.venv\\lib\\site-packages (from gradio) (2.2.3)\n",
      "Requirement already satisfied: pillow<12.0,>=8.0 in d:\\oliverwelz\\_demobau\\ai-spielplatz\\.venv\\lib\\site-packages (from gradio) (11.2.1)\n",
      "Requirement already satisfied: pydantic<2.12,>=2.0 in d:\\oliverwelz\\_demobau\\ai-spielplatz\\.venv\\lib\\site-packages (from gradio) (2.11.4)\n",
      "Requirement already satisfied: pydub in d:\\oliverwelz\\_demobau\\ai-spielplatz\\.venv\\lib\\site-packages (from gradio) (0.25.1)\n",
      "Requirement already satisfied: python-multipart>=0.0.18 in d:\\oliverwelz\\_demobau\\ai-spielplatz\\.venv\\lib\\site-packages (from gradio) (0.0.20)\n",
      "Requirement already satisfied: pyyaml<7.0,>=5.0 in d:\\oliverwelz\\_demobau\\ai-spielplatz\\.venv\\lib\\site-packages (from gradio) (6.0.2)\n",
      "Requirement already satisfied: ruff>=0.9.3 in d:\\oliverwelz\\_demobau\\ai-spielplatz\\.venv\\lib\\site-packages (from gradio) (0.11.8)\n",
      "Requirement already satisfied: safehttpx<0.2.0,>=0.1.6 in d:\\oliverwelz\\_demobau\\ai-spielplatz\\.venv\\lib\\site-packages (from gradio) (0.1.6)\n",
      "Requirement already satisfied: semantic-version~=2.0 in d:\\oliverwelz\\_demobau\\ai-spielplatz\\.venv\\lib\\site-packages (from gradio) (2.10.0)\n",
      "Requirement already satisfied: starlette<1.0,>=0.40.0 in d:\\oliverwelz\\_demobau\\ai-spielplatz\\.venv\\lib\\site-packages (from gradio) (0.46.2)\n",
      "Requirement already satisfied: tomlkit<0.14.0,>=0.12.0 in d:\\oliverwelz\\_demobau\\ai-spielplatz\\.venv\\lib\\site-packages (from gradio) (0.13.2)\n",
      "Requirement already satisfied: typer<1.0,>=0.12 in d:\\oliverwelz\\_demobau\\ai-spielplatz\\.venv\\lib\\site-packages (from gradio) (0.15.3)\n",
      "Requirement already satisfied: typing-extensions~=4.0 in d:\\oliverwelz\\_demobau\\ai-spielplatz\\.venv\\lib\\site-packages (from gradio) (4.12.2)\n",
      "Requirement already satisfied: uvicorn>=0.14.0 in d:\\oliverwelz\\_demobau\\ai-spielplatz\\.venv\\lib\\site-packages (from gradio) (0.34.2)\n",
      "Requirement already satisfied: fsspec in d:\\oliverwelz\\_demobau\\ai-spielplatz\\.venv\\lib\\site-packages (from gradio-client==1.10.0->gradio) (2025.3.2)\n",
      "Requirement already satisfied: websockets<16.0,>=10.0 in d:\\oliverwelz\\_demobau\\ai-spielplatz\\.venv\\lib\\site-packages (from gradio-client==1.10.0->gradio) (15.0.1)\n",
      "Requirement already satisfied: filelock in d:\\oliverwelz\\_demobau\\ai-spielplatz\\.venv\\lib\\site-packages (from torch) (3.18.0)\n",
      "Requirement already satisfied: sympy>=1.13.3 in d:\\oliverwelz\\_demobau\\ai-spielplatz\\.venv\\lib\\site-packages (from torch) (1.14.0)\n",
      "Requirement already satisfied: networkx in d:\\oliverwelz\\_demobau\\ai-spielplatz\\.venv\\lib\\site-packages (from torch) (3.4.2)\n",
      "Requirement already satisfied: setuptools in d:\\oliverwelz\\_demobau\\ai-spielplatz\\.venv\\lib\\site-packages (from torch) (75.8.0)\n",
      "Requirement already satisfied: contourpy>=1.0.1 in d:\\oliverwelz\\_demobau\\ai-spielplatz\\.venv\\lib\\site-packages (from matplotlib) (1.3.2)\n",
      "Requirement already satisfied: cycler>=0.10 in d:\\oliverwelz\\_demobau\\ai-spielplatz\\.venv\\lib\\site-packages (from matplotlib) (0.12.1)\n",
      "Requirement already satisfied: fonttools>=4.22.0 in d:\\oliverwelz\\_demobau\\ai-spielplatz\\.venv\\lib\\site-packages (from matplotlib) (4.57.0)\n",
      "Requirement already satisfied: kiwisolver>=1.3.1 in d:\\oliverwelz\\_demobau\\ai-spielplatz\\.venv\\lib\\site-packages (from matplotlib) (1.4.8)\n",
      "Requirement already satisfied: pyparsing>=2.3.1 in d:\\oliverwelz\\_demobau\\ai-spielplatz\\.venv\\lib\\site-packages (from matplotlib) (3.2.3)\n",
      "Requirement already satisfied: python-dateutil>=2.7 in d:\\oliverwelz\\_demobau\\ai-spielplatz\\.venv\\lib\\site-packages (from matplotlib) (2.9.0.post0)\n",
      "Collecting scipy>=1.6.0 (from scikit-learn)\n",
      "  Using cached scipy-1.15.2-cp312-cp312-win_amd64.whl.metadata (60 kB)\n",
      "Collecting joblib>=1.2.0 (from scikit-learn)\n",
      "  Downloading joblib-1.5.0-py3-none-any.whl.metadata (5.6 kB)\n",
      "Collecting threadpoolctl>=3.1.0 (from scikit-learn)\n",
      "  Using cached threadpoolctl-3.6.0-py3-none-any.whl.metadata (13 kB)\n",
      "Requirement already satisfied: idna>=2.8 in d:\\oliverwelz\\_demobau\\ai-spielplatz\\.venv\\lib\\site-packages (from anyio<5.0,>=3.0->gradio) (3.10)\n",
      "Requirement already satisfied: sniffio>=1.1 in d:\\oliverwelz\\_demobau\\ai-spielplatz\\.venv\\lib\\site-packages (from anyio<5.0,>=3.0->gradio) (1.3.1)\n",
      "Requirement already satisfied: certifi in d:\\oliverwelz\\_demobau\\ai-spielplatz\\.venv\\lib\\site-packages (from httpx>=0.24.1->gradio) (2024.12.14)\n",
      "Requirement already satisfied: httpcore==1.* in d:\\oliverwelz\\_demobau\\ai-spielplatz\\.venv\\lib\\site-packages (from httpx>=0.24.1->gradio) (1.0.7)\n",
      "Requirement already satisfied: h11<0.15,>=0.13 in d:\\oliverwelz\\_demobau\\ai-spielplatz\\.venv\\lib\\site-packages (from httpcore==1.*->httpx>=0.24.1->gradio) (0.14.0)\n",
      "Requirement already satisfied: requests in d:\\oliverwelz\\_demobau\\ai-spielplatz\\.venv\\lib\\site-packages (from huggingface-hub>=0.28.1->gradio) (2.32.3)\n",
      "Requirement already satisfied: tqdm>=4.42.1 in d:\\oliverwelz\\_demobau\\ai-spielplatz\\.venv\\lib\\site-packages (from huggingface-hub>=0.28.1->gradio) (4.67.1)\n",
      "Requirement already satisfied: pytz>=2020.1 in d:\\oliverwelz\\_demobau\\ai-spielplatz\\.venv\\lib\\site-packages (from pandas<3.0,>=1.0->gradio) (2025.2)\n",
      "Requirement already satisfied: tzdata>=2022.7 in d:\\oliverwelz\\_demobau\\ai-spielplatz\\.venv\\lib\\site-packages (from pandas<3.0,>=1.0->gradio) (2025.2)\n",
      "Requirement already satisfied: annotated-types>=0.6.0 in d:\\oliverwelz\\_demobau\\ai-spielplatz\\.venv\\lib\\site-packages (from pydantic<2.12,>=2.0->gradio) (0.7.0)\n",
      "Requirement already satisfied: pydantic-core==2.33.2 in d:\\oliverwelz\\_demobau\\ai-spielplatz\\.venv\\lib\\site-packages (from pydantic<2.12,>=2.0->gradio) (2.33.2)\n",
      "Requirement already satisfied: typing-inspection>=0.4.0 in d:\\oliverwelz\\_demobau\\ai-spielplatz\\.venv\\lib\\site-packages (from pydantic<2.12,>=2.0->gradio) (0.4.0)\n",
      "Requirement already satisfied: six>=1.5 in d:\\oliverwelz\\_demobau\\ai-spielplatz\\.venv\\lib\\site-packages (from python-dateutil>=2.7->matplotlib) (1.17.0)\n",
      "Requirement already satisfied: mpmath<1.4,>=1.1.0 in d:\\oliverwelz\\_demobau\\ai-spielplatz\\.venv\\lib\\site-packages (from sympy>=1.13.3->torch) (1.3.0)\n",
      "Requirement already satisfied: click>=8.0.0 in d:\\oliverwelz\\_demobau\\ai-spielplatz\\.venv\\lib\\site-packages (from typer<1.0,>=0.12->gradio) (8.1.8)\n",
      "Requirement already satisfied: shellingham>=1.3.0 in d:\\oliverwelz\\_demobau\\ai-spielplatz\\.venv\\lib\\site-packages (from typer<1.0,>=0.12->gradio) (1.5.4)\n",
      "Requirement already satisfied: rich>=10.11.0 in d:\\oliverwelz\\_demobau\\ai-spielplatz\\.venv\\lib\\site-packages (from typer<1.0,>=0.12->gradio) (14.0.0)\n",
      "Requirement already satisfied: colorama in d:\\oliverwelz\\_demobau\\ai-spielplatz\\.venv\\lib\\site-packages (from click>=8.0.0->typer<1.0,>=0.12->gradio) (0.4.6)\n",
      "Requirement already satisfied: markdown-it-py>=2.2.0 in d:\\oliverwelz\\_demobau\\ai-spielplatz\\.venv\\lib\\site-packages (from rich>=10.11.0->typer<1.0,>=0.12->gradio) (3.0.0)\n",
      "Requirement already satisfied: pygments<3.0.0,>=2.13.0 in d:\\oliverwelz\\_demobau\\ai-spielplatz\\.venv\\lib\\site-packages (from rich>=10.11.0->typer<1.0,>=0.12->gradio) (2.19.1)\n",
      "Requirement already satisfied: charset-normalizer<4,>=2 in d:\\oliverwelz\\_demobau\\ai-spielplatz\\.venv\\lib\\site-packages (from requests->huggingface-hub>=0.28.1->gradio) (3.4.1)\n",
      "Requirement already satisfied: urllib3<3,>=1.21.1 in d:\\oliverwelz\\_demobau\\ai-spielplatz\\.venv\\lib\\site-packages (from requests->huggingface-hub>=0.28.1->gradio) (2.3.0)\n",
      "Requirement already satisfied: mdurl~=0.1 in d:\\oliverwelz\\_demobau\\ai-spielplatz\\.venv\\lib\\site-packages (from markdown-it-py>=2.2.0->rich>=10.11.0->typer<1.0,>=0.12->gradio) (0.1.2)\n",
      "Using cached scikit_learn-1.6.1-cp312-cp312-win_amd64.whl (11.1 MB)\n",
      "Downloading joblib-1.5.0-py3-none-any.whl (307 kB)\n",
      "Using cached scipy-1.15.2-cp312-cp312-win_amd64.whl (40.9 MB)\n",
      "Using cached threadpoolctl-3.6.0-py3-none-any.whl (18 kB)\n",
      "Installing collected packages: threadpoolctl, scipy, joblib, scikit-learn\n",
      "Successfully installed joblib-1.5.0 scikit-learn-1.6.1 scipy-1.15.2 threadpoolctl-3.6.0\n"
     ]
    },
    {
     "name": "stderr",
     "output_type": "stream",
     "text": [
      "\n",
      "[notice] A new release of pip is available: 24.2 -> 25.1.1\n",
      "[notice] To update, run: python.exe -m pip install --upgrade pip\n"
     ]
    }
   ],
   "source": [
    "# Installs libraries for the UI (Gradio), neural networks (PyTorch), and plotting (matplotlib)\n",
    "!pip install gradio torch matplotlib scikit-learn"
   ]
  },
  {
   "cell_type": "markdown",
   "id": "0d287661",
   "metadata": {},
   "source": [
    "## 🔹 Step 1: Collect Labeled Color Data\n",
    "Use the color picker and enter a label (like 'sky blue' or 'dark green')."
   ]
  },
  {
   "cell_type": "code",
   "execution_count": 4,
   "id": "e9c07508",
   "metadata": {},
   "outputs": [
    {
     "name": "stdout",
     "output_type": "stream",
     "text": [
      "* Running on local URL:  http://127.0.0.1:7861\n",
      "* To create a public link, set `share=True` in `launch()`.\n"
     ]
    },
    {
     "data": {
      "text/html": [
       "<div><iframe src=\"http://127.0.0.1:7861/\" width=\"100%\" height=\"500\" allow=\"autoplay; camera; microphone; clipboard-read; clipboard-write;\" frameborder=\"0\" allowfullscreen></iframe></div>"
      ],
      "text/plain": [
       "<IPython.core.display.HTML object>"
      ]
     },
     "metadata": {},
     "output_type": "display_data"
    },
    {
     "data": {
      "text/plain": []
     },
     "execution_count": 4,
     "metadata": {},
     "output_type": "execute_result"
    }
   ],
   "source": [
    "import gradio as gr     # Gradio: simple Python UI library for building interactive web apps\n",
    "import csv              # CSV: for saving data in table (comma-separated values) format\n",
    "import os               # OS: for checking if file exists\n",
    "\n",
    "csv_file = \"color_data_rgb.csv\"  # Name of the file where color data will be saved\n",
    "\n",
    "# ✅ Create the CSV file with header row if it doesn't already exist\n",
    "if not os.path.exists(csv_file):                     # Check if file already exists\n",
    "    with open(csv_file, \"w\", newline=\"\") as f:       # Open in write mode\n",
    "        writer = csv.writer(f)                       # Create CSV writer\n",
    "        writer.writerow([\"r\", \"g\", \"b\", \"label\"])    # Write header row: column names\n",
    "\n",
    "# 🎨 Helper function: converts RGB values (0–255) into a hex color string (e.g., \"#ff6600\")\n",
    "def rgb_to_hex(r, g, b):\n",
    "    return f\"#{int(r):02x}{int(g):02x}{int(b):02x}\"  # Format RGB as 2-digit hex each\n",
    "\n",
    "# 🔍 Create an HTML preview box that shows the selected RGB color\n",
    "def update_preview(r, g, b):\n",
    "    hex_color = rgb_to_hex(r, g, b)  # Convert RGB to hex string\n",
    "    html = f\"<div style='width:100%; height:100px; background-color:{hex_color}; border-radius:8px; border:1px solid #ccc'></div>\"\n",
    "    return html  # Return HTML to visually display the color\n",
    "\n",
    "# 💾 Save the current color and its label to the CSV file\n",
    "def save_data(r, g, b, label):\n",
    "    if not label.strip():  # Prevent saving if label is empty\n",
    "        return \"Please enter a label.\"\n",
    "    with open(csv_file, \"a\", newline=\"\") as f:  # Open CSV in append mode\n",
    "        writer = csv.writer(f)\n",
    "        writer.writerow([int(r), int(g), int(b), label.strip().lower()])  # Write RGB + label to file\n",
    "    return f\"✅ Saved: RGB=({int(r)}, {int(g)}, {int(b)}) → Label='{label.strip().lower()}'\"  # Feedback\n",
    "\n",
    "# 🖼️ Build the Gradio interface\n",
    "with gr.Blocks() as demo:\n",
    "    # Title and instructions\n",
    "    gr.Markdown(\"## 🎨 RGB Color Labeling\\nUse the sliders to mix a color, label it, and save it to your dataset.\")\n",
    "\n",
    "    # RGB input sliders in a row\n",
    "    with gr.Row():\n",
    "        r = gr.Slider(0, 255, step=1, label=\"Red\")     # Slider for Red value\n",
    "        g = gr.Slider(0, 255, step=1, label=\"Green\")   # Slider for Green value\n",
    "        b = gr.Slider(0, 255, step=1, label=\"Blue\")    # Slider for Blue value\n",
    "\n",
    "    # HTML block to show live color preview\n",
    "    preview = gr.HTML(label=\"Color Preview\")\n",
    "\n",
    "    # Update preview whenever a slider changes\n",
    "    preview.change(fn=update_preview, inputs=[r, g, b], outputs=preview)\n",
    "    r.change(fn=update_preview, inputs=[r, g, b], outputs=preview)\n",
    "    g.change(fn=update_preview, inputs=[r, g, b], outputs=preview)\n",
    "    b.change(fn=update_preview, inputs=[r, g, b], outputs=preview)\n",
    "\n",
    "    # Input for user-defined label\n",
    "    label = gr.Textbox(label=\"Color Label\")\n",
    "\n",
    "    # Button to trigger data saving\n",
    "    save_button = gr.Button(\"💾 Save Color\")\n",
    "\n",
    "    # Textbox to show result message (success or error)\n",
    "    output = gr.Textbox(label=\"Status\")\n",
    "\n",
    "    # Link the button to the save_data function\n",
    "    save_button.click(fn=save_data, inputs=[r, g, b, label], outputs=output)\n",
    "\n",
    "# 🚀 Launch the app\n",
    "demo.launch()\n"
   ]
  },
  {
   "cell_type": "markdown",
   "id": "a6567320",
   "metadata": {},
   "source": [
    "**Task:** Go to Msty and let an LLM explain that code!"
   ]
  },
  {
   "cell_type": "markdown",
   "id": "e1c40227",
   "metadata": {},
   "source": [
    "## 🔹 Step 2: Train the Classifier\n",
    "We use a simple 3-layer neural network to classify colors by name."
   ]
  },
  {
   "cell_type": "code",
   "execution_count": 9,
   "id": "e3c11d6a",
   "metadata": {},
   "outputs": [
    {
     "data": {
      "image/png": "[encoded data removed]",
      "text/plain": [
       "<Figure size 640x480 with 1 Axes>"
      ]
     },
     "metadata": {},
     "output_type": "display_data"
    },
    {
     "name": "stdout",
     "output_type": "stream",
     "text": [
      "Model trained and saved.\n"
     ]
    }
   ],
   "source": [
    "# 🧠 Import required libraries for deep learning, preprocessing, and plotting\n",
    "import torch                           # PyTorch: the core deep learning framework\n",
    "import torch.nn as nn                  # Neural network module\n",
    "import torch.optim as optim            # Optimizers for training\n",
    "from sklearn.preprocessing import LabelEncoder  # For turning text labels into numbers\n",
    "from sklearn.model_selection import train_test_split  # To split data into training/testing sets\n",
    "import matplotlib.pyplot as plt        # To plot training progress\n",
    "import numpy as np                     # For array/matrix operations\n",
    "import pandas as pd                    # To read the color data from CSV\n",
    "\n",
    "# 📥 Load the color data from CSV file\n",
    "csv_file = \"color_data_rgb.csv\"        # CSV file where collected RGB+label data is stored\n",
    "df = pd.read_csv(csv_file)             # Load data into a DataFrame\n",
    "\n",
    "# 🛑 Check if we have enough data to train a model\n",
    "if len(df) < 5:\n",
    "    raise ValueError(\"Not enough labeled samples. Add more using the UI above.\")\n",
    "\n",
    "# 🎯 Extract RGB features and associated labels from the dataset\n",
    "X = df[['r', 'g', 'b']].values.astype(np.float32) / 255.0  # Normalize RGB to range 0–1\n",
    "labels = df['label'].values                                # Extract text labels (e.g. 'red')\n",
    "\n",
    "# 🔠 Convert text labels into numeric class IDs\n",
    "le = LabelEncoder()\n",
    "y = le.fit_transform(labels)  # Turn label strings into class numbers (e.g. 'red' → 0)\n",
    "\n",
    "# ✂️ Split into training and test sets (80% train, 20% test)\n",
    "X_train, X_test, y_train, y_test = train_test_split(X, y, test_size=0.2, random_state=42)\n",
    "\n",
    "# 🔄 Convert data to PyTorch tensors\n",
    "X_train = torch.tensor(X_train, dtype=torch.float32)\n",
    "y_train = torch.tensor(y_train, dtype=torch.long)\n",
    "X_test = torch.tensor(X_test, dtype=torch.float32)\n",
    "y_test = torch.tensor(y_test, dtype=torch.long)\n",
    "\n",
    "# 🧠 Define a simple feedforward neural network\n",
    "class ColorClassifier(nn.Module):\n",
    "    def __init__(self, num_classes):\n",
    "        super().__init__()\n",
    "        self.model = nn.Sequential(\n",
    "            nn.Linear(3, 16),       # Input layer: 3 neurons (R, G, B) → 16 neurons\n",
    "            nn.ReLU(),              # ReLU introduces non-linearity\n",
    "                                    # ReLU (Rectified Linear Unit) is an activation function\n",
    "                                    # It outputs 0 for negative inputs, and passes positive inputs unchanged\n",
    "                                    # This helps the network model complex patterns like curves or categories\n",
    "            nn.Linear(16, 16),      # Hidden layer: 16 → 16 neurons\n",
    "            nn.ReLU(),              # Another non-linearity\n",
    "            nn.Linear(16, num_classes)  # Output layer: N neurons (N = number of unique labels)\n",
    "        )\n",
    "\n",
    "        # 🧠 Summary of network structure:\n",
    "        # Input: 3 neurons for normalized RGB values\n",
    "        # Hidden Layer 1: 16 neurons with ReLU activation\n",
    "        # Hidden Layer 2: 16 neurons with ReLU activation\n",
    "        # Output Layer: N neurons (one per class label)\n",
    "        # Full architecture: 3 → 16 → 16 → N\n",
    "        # Note: Each Linear layer is fully connected (dense)\n",
    "\n",
    "    def forward(self, x):\n",
    "        return self.model(x)  # Defines the forward computation through the network\n",
    "        # This is a feedforward network:\n",
    "        # - Data flows only forward from input → output\n",
    "        # - Training adjusts the weights to reduce prediction error (via backpropagation)\n",
    "\n",
    "# ⚙️ Create model, loss function, and optimizer\n",
    "model = ColorClassifier(num_classes=len(le.classes_))  # Instantiate the model with correct output size\n",
    "criterion = nn.CrossEntropyLoss()                      # Cross-entropy loss for classification tasks\n",
    "optimizer = optim.Adam(model.parameters(), lr=0.01)    # Adam optimizer (adaptive learning rate)\n",
    "\n",
    "# 🏋️ Training loop\n",
    "losses = []\n",
    "for epoch in range(100):                      # Train for 100 epochs\n",
    "    optimizer.zero_grad()                     # Clear previous gradients\n",
    "    outputs = model(X_train)                  # Forward pass: get predictions\n",
    "    loss = criterion(outputs, y_train)        # Compute loss between predictions and true labels\n",
    "    loss.backward()                           # Backward pass: calculate gradients\n",
    "    optimizer.step()                          # Update weights based on gradients\n",
    "    losses.append(loss.item())                # Store loss for visualization\n",
    "\n",
    "# 📈 Plot the loss curve to see if training worked\n",
    "plt.plot(losses)\n",
    "plt.title(\"Training Loss\")\n",
    "plt.xlabel(\"Epoch\")\n",
    "plt.ylabel(\"Loss\")\n",
    "plt.grid(True)\n",
    "plt.show()\n",
    "\n",
    "# 💾 Save the trained model to file for future use\n",
    "torch.save(model.state_dict(), \"color_classifier.pt\")\n",
    "print(\"Model trained and saved.\")\n"
   ]
  },
  {
   "cell_type": "markdown",
   "id": "3b06b3aa",
   "metadata": {},
   "source": [
    "**Task:** Go to Msty and discuss the model / model architecture or knowledge with a LLM!\n"
   ]
  },
  {
   "cell_type": "markdown",
   "id": "f5a853f5",
   "metadata": {},
   "source": [
    "## 🔹 Step 3: Predict and Evaluate\n",
    "Use the model to classify new colors."
   ]
  },
  {
   "cell_type": "code",
   "execution_count": 11,
   "id": "e289888d",
   "metadata": {},
   "outputs": [
    {
     "name": "stdout",
     "output_type": "stream",
     "text": [
      "* Running on local URL:  http://127.0.0.1:7863\n",
      "* To create a public link, set `share=True` in `launch()`.\n"
     ]
    },
    {
     "data": {
      "text/html": [
       "<div><iframe src=\"http://127.0.0.1:7863/\" width=\"100%\" height=\"500\" allow=\"autoplay; camera; microphone; clipboard-read; clipboard-write;\" frameborder=\"0\" allowfullscreen></iframe></div>"
      ],
      "text/plain": [
       "<IPython.core.display.HTML object>"
      ]
     },
     "metadata": {},
     "output_type": "display_data"
    },
    {
     "data": {
      "text/plain": []
     },
     "execution_count": 11,
     "metadata": {},
     "output_type": "execute_result"
    }
   ],
   "source": [
    "# 🧠 Gradio interface for prediction using sliders and color preview\n",
    "\n",
    "import gradio as gr\n",
    "\n",
    "# Define a function that takes RGB sliders and returns a predicted label + color preview\n",
    "def predict_label(r, g, b):\n",
    "    rgb = torch.tensor([[r / 255.0, g / 255.0, b / 255.0]], dtype=torch.float32)  # Normalize RGB and convert to tensor\n",
    "\n",
    "    model.eval()  # Set model to evaluation mode (disables things like dropout)\n",
    "    with torch.no_grad():  # No need to track gradients during inference\n",
    "        pred = model(rgb)  # Run the model to get output scores\n",
    "        label_idx = torch.argmax(pred, dim=1).item()  # Get the index of the highest score (predicted class)\n",
    "\n",
    "    predicted_label = le.classes_[label_idx]  # Get the label name from the label encoder\n",
    "\n",
    "    # Build a small color box preview using HTML\n",
    "    hex_color = f\"#{int(r):02x}{int(g):02x}{int(b):02x}\"  # Convert RGB to hex\n",
    "    preview_html = f\"<div style='width:100%; height:100px; background-color:{hex_color}; border-radius:8px; border:1px solid #ccc'></div>\"\n",
    "\n",
    "    return f\"Predicted Label: {predicted_label}\", preview_html  # Return prediction + visual preview\n",
    "\n",
    "# Build the Gradio UI\n",
    "with gr.Blocks() as demo:\n",
    "    gr.Markdown(\"## 🎯 Test Color Classifier\\nUse the sliders to choose a color and see how the model classifies it.\")\n",
    "\n",
    "    # RGB input sliders\n",
    "    with gr.Row():\n",
    "        r = gr.Slider(0, 255, step=1, label=\"Red\")     # Slider for Red value\n",
    "        g = gr.Slider(0, 255, step=1, label=\"Green\")   # Slider for Green value\n",
    "        b = gr.Slider(0, 255, step=1, label=\"Blue\")    # Slider for Blue value\n",
    "\n",
    "    # Output: Predicted label and color box\n",
    "    prediction_output = gr.Textbox(label=\"Predicted Label\")  # Text label output\n",
    "    color_preview = gr.HTML(label=\"Color Preview\")           # Visual color preview\n",
    "\n",
    "    # Predict on change of sliders (live inference)\n",
    "    r.change(fn=predict_label, inputs=[r, g, b], outputs=[prediction_output, color_preview])\n",
    "    g.change(fn=predict_label, inputs=[r, g, b], outputs=[prediction_output, color_preview])\n",
    "    b.change(fn=predict_label, inputs=[r, g, b], outputs=[prediction_output, color_preview])\n",
    "\n",
    "demo.launch()  # 🚀 Launch the Gradio app\n"
   ]
  },
  {
   "cell_type": "markdown",
   "id": "eec6e909",
   "metadata": {},
   "source": [
    "**Task:** Try the whole code on the Raspberry Pi!"
   ]
  },
  {
   "cell_type": "markdown",
   "id": "737e3d36",
   "metadata": {},
   "source": [
    "**Task:** Check gradio docs for other I/O components!"
   ]
  }
 ],
 "metadata": {
  "kernelspec": {
   "display_name": "Python 3 (ipykernel)",
   "language": "python",
   "name": "python3"
  },
  "language_info": {
   "codemirror_mode": {
    "name": "ipython",
    "version": 3
   },
   "file_extension": ".py",
   "mimetype": "text/x-python",
   "name": "python",
   "nbconvert_exporter": "python",
   "pygments_lexer": "ipython3",
   "version": "3.12.6"
  }
 },
 "nbformat": 4,
 "nbformat_minor": 5
}
