{
 "cells": [
  {
   "cell_type": "markdown",
   "id": "982b04bf",
   "metadata": {},
   "source": [
    "# Working with APIs: Using OpenAI GPT-4o-mini in Python\n",
    "\n",
    "## Introduction\n",
    "APIs (Application Programming Interfaces) allow developers to interact with external services. For example, since we want to learn ai here and Generative AI & especially Large Language Models (LLMs) are all around now: OpenAI as well as lots of others provide an API that enables you to leverage powerful (language) models like GPT-4o-mini for various tasks. This notebook demonstrates how to use the OpenAI API as a general example to get along with using APIs to send text and image inputs and process their responses. This way you maybe have access to more powerful models with less effort regarding your own code but BEWARE/ATTENTION: always be sure about what you share with external providers #data-privacy\n"
   ]
  },
  {
   "cell_type": "markdown",
   "id": "0a3af401",
   "metadata": {},
   "source": [
    "## Prerequisites\n",
    "\n",
    "### Requirements:\n",
    "1. **Python Installed**: Ensure you have Python installed (preferably version 3.7 or above). You hopefully covered that at least in our Python_Basics_Tutorial? If not feel, now there's a good time to do that but you can be also pretty sure that we have some Hardware ready so you don't need this or you can use your code e.g. in Google Colab.\n",
    "2. **OpenAI Library**: Install the OpenAI Python SDK.\n",
    "   ```bash\n",
    "   pip install openai\n",
    "   ```\n",
    "3. **API Key**: You need an OpenAI API key. Sign up at [OpenAI Platform](https://platform.openai.com/signup/) to obtain your API key. We will provide you with Keys and in special cases you are responsible on that on your own.\n",
    "4. **Base64 Library**: The `base64` library is included in Python's standard library and does not require installation. This is for encoding images so that machines or even ai models can \"understand\" image data\n",
    "5. **Environment Variables**: Store your API key as an environment variable for security & this automates the process of retrieving the key:\n",
    "   ```bash\n",
    "   export OPENAI_API_KEY='your-api-key-here'\n",
    "   ```\n"
   ]
  },
  {
   "cell_type": "code",
   "execution_count": null,
   "id": "7e3ddffd",
   "metadata": {},
   "outputs": [],
   "source": [
    "# Step 1: Import Libraries\n",
    "import os\n",
    "import base64\n",
    "from openai import OpenAI\n"
   ]
  },
  {
   "cell_type": "code",
   "execution_count": null,
   "id": "bd5fcb86",
   "metadata": {},
   "outputs": [],
   "source": [
    "# Step 2: API Setup\n",
    "# Set the API key and model name\n",
    "MODEL = \"gpt-4o-mini\"\n",
    "client = OpenAI(api_key=os.environ.get(\"OPENAI_API_KEY\"))\n"
   ]
  },
  {
   "cell_type": "code",
   "execution_count": null,
   "id": "a7ddb3dd",
   "metadata": {},
   "outputs": [],
   "source": [
    "# Step 3: Encode Images to Base64\n",
    "def encode_image(image_path):\n",
    "    \"\"\"\n",
    "    Encodes an image file into Base64 format.\n",
    "    :param image_path: Path to the image file\n",
    "    :return: Base64 encoded string of the image\n",
    "    \"\"\"\n",
    "    with open(image_path, \"rb\") as image_file:\n",
    "        return base64.b64encode(image_file.read()).decode(\"utf-8\")\n"
   ]
  },
  {
   "cell_type": "code",
   "execution_count": null,
   "id": "8057164e",
   "metadata": {},
   "outputs": [],
   "source": [
    "# Step 4: Process Text and Image Inputs\n",
    "def process_input(image_path=None, prompt=\"\"):\n",
    "    \"\"\"\n",
    "    Processes user input (text or image) and sends it to the OpenAI API.\n",
    "    :param image_path: Optional path to an image file\n",
    "    :param prompt: User's text input\n",
    "    :return: Response from OpenAI\n",
    "    \"\"\"\n",
    "    if image_path:\n",
    "        # Encode the image to Base64\n",
    "        base64_image = encode_image(image_path)\n",
    "        message_content = [\n",
    "            {\"type\": \"text\", \"text\": prompt},\n",
    "            {\"type\": \"image_url\", \"image_url\": {\n",
    "                \"url\": f\"data:image/png;base64,{base64_image}\"\n",
    "            }}\n",
    "        ]\n",
    "    elif prompt.strip():\n",
    "        message_content = [{\"type\": \"text\", \"text\": prompt}]\n",
    "    else:\n",
    "        return \"Please provide a prompt or an image.\"\n",
    "\n",
    "    try:\n",
    "        # Send the request to OpenAI API\n",
    "        response = client.chat.completions.create(\n",
    "            model=MODEL,\n",
    "            messages=[\n",
    "                {\"role\": \"system\", \"content\": \"You are a helpful assistant that responds in Markdown.\"},\n",
    "                {\"role\": \"user\", \"content\": message_content}\n",
    "            ],\n",
    "            temperature=0.0,\n",
    "        )\n",
    "        return response.choices[0].message.content.strip()\n",
    "    except Exception as e:\n",
    "        return f\"Request failed: {e}\"\n"
   ]
  },
  {
   "cell_type": "markdown",
   "id": "b67368fe",
   "metadata": {},
   "source": [
    "## Examples of Use\n"
   ]
  },
  {
   "cell_type": "code",
   "execution_count": null,
   "id": "5bc91568",
   "metadata": {},
   "outputs": [],
   "source": [
    "# Example 1: Process Image and Text Input\n",
    "image_path = \"./examples/1_ToolBox.jpg\"\n",
    "prompt = \"What is shown in this image? Are there wrenches visible? Where are they located?\"\n",
    "output = process_input(image_path=image_path, prompt=prompt)\n",
    "print(output)\n"
   ]
  },
  {
   "cell_type": "code",
   "execution_count": null,
   "id": "a8b868f9",
   "metadata": {},
   "outputs": [],
   "source": [
    "# Example 2: Text Input Only\n",
    "prompt = \"Explain the error in this message: 'Permission Denied'.\"\n",
    "output = process_input(prompt=prompt)\n",
    "print(output)\n"
   ]
  },
  {
   "cell_type": "markdown",
   "id": "0313281c",
   "metadata": {},
   "source": [
    "## Summary\n",
    "\n",
    "In this notebook, you've learned how to:\n",
    "1. Set up and configure the OpenAI API.\n",
    "2. Encode images into Base64 format.\n",
    "3. Process text and image inputs to send requests to GPT-4o-mini.\n",
    "4. Retrieve and interpret responses from the model.\n",
    "\n",
    "This approach can be extended for various multimodal applications like virtual assistants, text analyzers, or educational tools.\n"
   ]
  }
 ],
 "metadata": {
  "kernelspec": {
   "display_name": "Python 3 (ipykernel)",
   "language": "python",
   "name": "python3"
  },
  "language_info": {
   "codemirror_mode": {
    "name": "ipython",
    "version": 3
   },
   "file_extension": ".py",
   "mimetype": "text/x-python",
   "name": "python",
   "nbconvert_exporter": "python",
   "pygments_lexer": "ipython3",
   "version": "3.12.6"
  }
 },
 "nbformat": 4,
 "nbformat_minor": 5
}
