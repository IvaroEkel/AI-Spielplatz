{
 "cells": [
  {
   "cell_type": "markdown",
   "id": "84ffae12",
   "metadata": {},
   "source": [
    "# Python Tutorials Repository\n",
    "\n",
    "## Python Basics: Introduction to Python and Setting Up\n",
    "\n",
    "---\n",
    "\n",
    "### What is Python?\n",
    "\n",
    "Python is a high-level, interpreted programming language known for its simplicity and readability. It is widely used in various domains, such as:\n",
    "- **Web Development** (e.g., using Django or Flask)\n",
    "- **Data Science** (e.g., using Pandas, NumPy, or Matplotlib)\n",
    "- **Machine Learning and AI** (e.g., using TensorFlow or PyTorch)\n",
    "- **Automation and Scripting**\n",
    "- **Game Development** (e.g. pygame)\n",
    "\n",
    "### Wait what?\n",
    "In simple terms this is a widely adopted and more or less easy to learn programming language. At least with the help of ai you should be able to bring your projects and ideas to life fast.\n",
    "Python is organized in skript files (.py) and in those files you put your code following a certain structure, of course- programming is about learning a language. But you don't have to do all on your own: in python there a pre-coded scripts and packages called libraries (often also called dependencies). These libraries or libs you can download, install, import, customize, etc. ...pretty helpful!\n",
    "And, last but not least for the basics: you can't break anything because python provides solutions to \"capsule\" your so called \"virtual environment\" or \"venv\" speaking in coool language (this means your project and all libs on one place- e.g. for reproducing / sharing or in case you need to go back to a working state when you break something). Now lets see a simple script that shows all the mentioned stuff besides the:"
   ]
  },
  {
   "cell_type": "code",
   "execution_count": null,
   "id": "7a9015d9-120b-493d-9e82-4797b6d3b29d",
   "metadata": {},
   "outputs": [],
   "source": [
    "# Imports PIL module\n",
    "from PIL import Image\n",
    "\n",
    "# open method used to open different extension image file\n",
    "im = Image.open(r\"C:\\Users\\System-Pc\\Desktop\\an-image.jpg\")\n",
    "\n",
    "# This method will show image in any image viewer\n",
    "im.show()"
   ]
  },
  {
   "cell_type": "markdown",
   "id": "f2cd4233-f4f0-44b1-9279-b0b0ea402381",
   "metadata": {},
   "source": [
    "This very basic script imports the lib \"PIL\" or Pillow (https://python-pillow.github.io/) a Python Image Library and... you can guess it, right, it loads and image from a local folder in the file-system and displays it. Nice!"
   ]
  },
  {
   "cell_type": "markdown",
   "id": "db0641b7",
   "metadata": {},
   "source": [
    "### Key Features of Python\n",
    "\n",
    "- **Simple Syntax:** Easy to learn and read, making it beginner-friendly.\n",
    "- **Versatile:** Suitable for small scripts to large-scale applications.\n",
    "- **Extensive Libraries:** Includes built-in libraries and third-party modules for almost every purpose.\n",
    "- **Interpreted Language:** Code is executed line-by-line, which simplifies debugging.\n",
    "- **Cross-Platform:** Works on Windows, macOS, Linux, and more.\n"
   ]
  },
  {
   "cell_type": "markdown",
   "id": "892a3c2d",
   "metadata": {},
   "source": [
    "## Setting Up Python\n",
    "\n",
    "### Installing Python\n",
    "\n",
    "Follow these steps to set up Python on your system:\n",
    "1. **Download Python**\n",
    "   - Go to the [official Python website](https://www.python.org/downloads/).\n",
    "   - Download the latest version suitable for your operating system.\n",
    "\n",
    "2. **Install Python**\n",
    "   - Run the installer and ensure to check the box **\"Add Python to PATH\"** (important for command-line use).\n",
    "\n",
    "3. **Verify Installation**\n",
    "   - Open a terminal and type:\n",
    "     ```bash\n",
    "     python --version\n",
    "     ```\n",
    "   - If Python is installed correctly, it will display the version number.\n"
   ]
  },
  {
   "cell_type": "markdown",
   "id": "e7e34293",
   "metadata": {},
   "source": [
    "### Installing a Code Editor\n",
    "\n",
    "While you can write Python code in any text editor, using an Integrated Development Environment (IDE) improves productivity. Popular options include:\n",
    "- **VS Code:** Lightweight and highly extensible.\n",
    "- **PyCharm:** Feature-rich IDE tailored for Python development.\n",
    "- **Jupyter Notebook:** Ideal for data analysis and experimentation.\n"
   ]
  },
  {
   "cell_type": "code",
   "execution_count": null,
   "id": "a92b1de4",
   "metadata": {},
   "outputs": [],
   "source": [
    "# Create a virtual environment\n",
    "python -m venv myenv\n",
    "\n",
    "# Activate the virtual environment\n",
    "# Windows:\n",
    "myenv\\Scripts\\activate\n",
    "# macOS/Linux:\n",
    "source myenv/bin/activate\n",
    "\n",
    "# Install packages within the environment\n",
    "pip install numpy pandas\n"
   ]
  },
  {
   "cell_type": "markdown",
   "id": "3bb03490",
   "metadata": {},
   "source": [
    "Deactivate the environment by typing `deactivate`.\n"
   ]
  },
  {
   "cell_type": "code",
   "execution_count": null,
   "id": "2a41fcf2",
   "metadata": {},
   "outputs": [],
   "source": [
    "# This is your first Python program\n",
    "print(\"Hello, World!\")\n"
   ]
  },
  {
   "cell_type": "markdown",
   "id": "7630357e-c22b-46be-855b-9d93b58450a6",
   "metadata": {},
   "source": [
    "Now some basics for testing on yourself. Nothing special but maybe helpful?"
   ]
  },
  {
   "cell_type": "code",
   "execution_count": null,
   "id": "666ef78e",
   "metadata": {},
   "outputs": [],
   "source": [
    "# Integer\n",
    "x = 5\n",
    "\n",
    "# Float\n",
    "y = 3.14\n",
    "\n",
    "# String\n",
    "name = \"Python\"\n",
    "\n",
    "# Boolean\n",
    "is_cool = True\n",
    "\n",
    "print(x, y, name, is_cool)\n"
   ]
  },
  {
   "cell_type": "code",
   "execution_count": null,
   "id": "9ea7f0ce",
   "metadata": {},
   "outputs": [],
   "source": [
    "# Check if a number is positive or negative\n",
    "num = -10\n",
    "if num > 0:\n",
    "    print(\"Positive number\")\n",
    "elif num == 0:\n",
    "    print(\"Zero\")\n",
    "else:\n",
    "    print(\"Negative number\")\n"
   ]
  },
  {
   "cell_type": "code",
   "execution_count": null,
   "id": "d715ab02",
   "metadata": {},
   "outputs": [],
   "source": [
    "# Loop through a range of numbers\n",
    "for i in range(5):\n",
    "    print(i)\n"
   ]
  },
  {
   "cell_type": "code",
   "execution_count": null,
   "id": "549eee91",
   "metadata": {},
   "outputs": [],
   "source": [
    "# Print numbers from 1 to 5\n",
    "num = 1\n",
    "while num <= 5:\n",
    "    print(num)\n",
    "    num += 1\n"
   ]
  },
  {
   "cell_type": "code",
   "execution_count": null,
   "id": "1d68aaee",
   "metadata": {},
   "outputs": [],
   "source": [
    "import math\n",
    "\n",
    "# Calculate the square root of 16\n",
    "print(math.sqrt(16))\n",
    "\n",
    "# Calculate the sine of 90 degrees (in radians)\n",
    "print(math.sin(math.radians(90)))\n"
   ]
  },
  {
   "cell_type": "code",
   "execution_count": null,
   "id": "a0c7c97a",
   "metadata": {},
   "outputs": [],
   "source": [
    "import requests\n",
    "\n",
    "# Fetch data from a public API\n",
    "response = requests.get(\"https://api.github.com\")\n",
    "\n",
    "# Check the status of the request\n",
    "if response.status_code == 200:\n",
    "    print(\"Success!\", response.json())\n",
    "else:\n",
    "    print(\"Failed to retrieve data\")\n"
   ]
  },
  {
   "cell_type": "markdown",
   "id": "5c3751e9",
   "metadata": {},
   "source": [
    "By following these steps, you’ll have a strong foundation in Python and be ready to explore advanced topics like APIs, AI, and machine learning.\n"
   ]
  }
 ],
 "metadata": {
  "kernelspec": {
   "display_name": "Python 3 (ipykernel)",
   "language": "python",
   "name": "python3"
  },
  "language_info": {
   "codemirror_mode": {
    "name": "ipython",
    "version": 3
   },
   "file_extension": ".py",
   "mimetype": "text/x-python",
   "name": "python",
   "nbconvert_exporter": "python",
   "pygments_lexer": "ipython3",
   "version": "3.12.6"
  }
 },
 "nbformat": 4,
 "nbformat_minor": 5
}
