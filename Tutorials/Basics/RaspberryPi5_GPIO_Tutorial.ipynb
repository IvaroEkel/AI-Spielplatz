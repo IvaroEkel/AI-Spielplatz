{
 "cells": [
  {
   "cell_type": "code",
   "execution_count": null,
   "id": "4c41ae00",
   "metadata": {},
   "outputs": [],
   "source": [
    "[![Open in Colab](https://colab.research.google.com/assets/colab-badge.svg)](https://colab.research.google.com/github/IvaroEkel/AI-Spielplatz/blob/main/Tutorials/Basics/RaspberryPi5_GPIO_Tutorial.ipynb)"
   ]
  },
  {
   "cell_type": "markdown",
   "metadata": {},
   "source": [
    "# Raspberry Pi 5 (8GB) GPIO Basics with Python\n",
    "\n",
    "## Introduction\n",
    "The Raspberry Pi 5 (8GB) is a powerful single-board computer that provides General Purpose Input/Output (GPIO) pins for interacting with external hardware components. This tutorial covers:\n",
    "- Setting up GPIO on the Raspberry Pi.\n",
    "- Controlling GPIO pins using Python.\n",
    "- Reading data from a sensor (e.g., DHT11 temperature and humidity sensor)."
   ]
  },
  {
   "cell_type": "markdown",
   "metadata": {},
   "source": [
    "## Prerequisites\n",
    "\n",
    "### Hardware Requirements:\n",
    "- Raspberry Pi 5 (8GB)\n",
    "- MicroSD card with Raspberry Pi OS installed\n",
    "- Power supply for the Raspberry Pi\n",
    "- Breadboard and jumper wires\n",
    "- DHT11 Temperature and Humidity Sensor (or another sensor)\n",
    "- Resistor (e.g., 10kΩ for pull-up configuration if needed)\n",
    "\n",
    "### Software Requirements:\n",
    "- Raspberry Pi OS (latest version)\n",
    "- Python installed (`sudo apt install python3` if not pre-installed)\n",
    "- GPIO library (`RPi.GPIO` for classic control, `gpiozero` for simplified control)\n",
    "- DHT11 library (`Adafruit_DHT`) for reading temperature and humidity sensor data\n",
    "\n",
    "#### Installing Required Libraries:\n",
    "Run the following commands to install necessary Python libraries:\n",
    "```bash\n",
    "sudo apt update\n",
    "sudo apt install python3-pip\n",
    "pip install RPi.GPIO gpiozero Adafruit_DHT\n",
    "```"
   ]
  },
  {
   "cell_type": "markdown",
   "metadata": {},
   "source": [
    "## Step 1: Understanding GPIO on Raspberry Pi\n",
    "\n",
    "The Raspberry Pi 5 features a **40-pin GPIO header**, with pins for power (3.3V and 5V), ground, and programmable I/O.\n",
    "\n",
    "- **Input Mode**: Reading sensor data or button states.\n",
    "- **Output Mode**: Controlling LEDs, motors, or relays.\n",
    "\n",
    "### GPIO Pinout Diagram\n",
    "**Refer to official Raspberry Pi documentation or resources like [pinout.xyz](https://pinout.xyz/) for pin mapping.**"
   ]
  },
  {
   "cell_type": "markdown",
   "metadata": {},
   "source": [
    "## Step 2: Blinking an LED (Basic GPIO Output)\n",
    "\n",
    "Let's start with a simple example: blinking an LED.\n",
    "\n",
    "**Wiring:**\n",
    "- Connect the **long leg** of the LED to **GPIO17** (pin 11).\n",
    "- Connect the **short leg** of the LED to a **330Ω resistor** in series to GND (pin 6).\n",
    "\n",
    "**Python Code:**"
   ]
  },
  {
   "cell_type": "code",
   "execution_count": null,
   "metadata": {},
   "outputs": [],
   "source": [
    "import RPi.GPIO as GPIO\n",
    "import time\n",
    "\n",
    "# Set up GPIO\n",
    "GPIO.setmode(GPIO.BCM)  # Use Broadcom pin numbering\n",
    "LED_PIN = 17  # GPIO17 (Pin 11 on the board)\n",
    "GPIO.setup(LED_PIN, GPIO.OUT)\n",
    "\n",
    "# Blink LED\n",
    "try:\n",
    "    while True:\n",
    "        GPIO.output(LED_PIN, GPIO.HIGH)  # Turn on LED\n",
    "        time.sleep(1)\n",
    "        GPIO.output(LED_PIN, GPIO.LOW)   # Turn off LED\n",
    "        time.sleep(1)\n",
    "except KeyboardInterrupt:\n",
    "    GPIO.cleanup()  # Reset GPIO settings\n"
   ]
  },
  {
   "cell_type": "markdown",
   "metadata": {},
   "source": [
    "## Step 3: Reading Sensor Data (DHT11 Example)\n",
    "\n",
    "The DHT11 sensor measures temperature and humidity. It has three main connections:\n",
    "- **VCC (3.3V or 5V)**\n",
    "- **Data (Connected to a GPIO pin)**\n",
    "- **GND (Ground)**\n",
    "\n",
    "**Wiring:**\n",
    "- Connect **VCC** to **5V (Pin 2)**.\n",
    "- Connect **GND** to **GND (Pin 6)**.\n",
    "- Connect **DATA** to **GPIO4 (Pin 7)** with a **10kΩ pull-up resistor** to VCC.\n",
    "\n",
    "**Python Code:**"
   ]
  },
  {
   "cell_type": "code",
   "execution_count": null,
   "metadata": {},
   "outputs": [],
   "source": [
    "import Adafruit_DHT\n",
    "\n",
    "# Sensor type and GPIO pin\n",
    "SENSOR = Adafruit_DHT.DHT11\n",
    "SENSOR_PIN = 4  # GPIO4 (Pin 7)\n",
    "\n",
    "def read_sensor():\n",
    "    humidity, temperature = Adafruit_DHT.read_retry(SENSOR, SENSOR_PIN)\n",
    "    if humidity is not None and temperature is not None:\n",
    "        print(f\"Temp: {temperature:.1f}°C  Humidity: {humidity:.1f}%\")\n",
    "    else:\n",
    "        print(\"Failed to retrieve data from sensor\")\n",
    "\n",
    "# Run the function\n",
    "read_sensor()\n"
   ]
  },
  {
   "cell_type": "markdown",
   "metadata": {},
   "source": [
    "## Summary\n",
    "\n",
    "- The **Raspberry Pi 5** provides GPIO pins for controlling external devices.\n",
    "- We demonstrated how to **blink an LED** using Python and the `RPi.GPIO` library.\n",
    "- We also **read data from a DHT11 sensor** to get temperature and humidity values.\n",
    "- You can expand this by connecting more sensors, motors, or using IoT platforms for real-time monitoring.\n",
    "\n",
    "### Useful References:\n",
    "- [Official Raspberry Pi GPIO Documentation](https://www.raspberrypi.org/documentation/)\n",
    "- [Pinout.xyz](https://pinout.xyz/) - Interactive GPIO Pinout\n",
    "- [Adafruit DHT Python Library](https://github.com/adafruit/Adafruit_Python_DHT)"
   ]
  }
 ],
 "metadata": {
  "kernpec": {
   "display_name": "Python 3",
   "language": "python",
   "name": "python3"
  },
  "language_info": {
   "codemirror_mode": {
    "name": "ipython",
    "version": 3
   },
   "file_extension": ".py",
   "mimetype": "text/x-python",
   "name": "python",
   "nbconvert_exporter": "python",
   "pygments_lexer": "ipython3",
   "version": "3.x"
  }
 },
 "nbformat": 4,
 "nbformat_minor": 5
}
