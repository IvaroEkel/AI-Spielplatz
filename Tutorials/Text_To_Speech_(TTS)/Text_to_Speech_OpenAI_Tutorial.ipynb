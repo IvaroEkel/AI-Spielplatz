{
 "cells": [
  {
   "cell_type": "markdown",
   "id": "3eb368d3-1dd2-43ac-9c7f-6753cc8d64c5",
   "metadata": {},
   "source": [
    "[![Open in Colab](https://colab.research.google.com/assets/colab-badge.svg)](https://colab.research.google.com/github/IvaroEkel/AI-Spielplatz/blob/main/Tutorials/Text_To_Speech_TTS/Text_to_Speech_OpenAI_Tutorial.ipynb)"
   ]
  },
  {
   "cell_type": "markdown",
   "id": "ead004c2",
   "metadata": {},
   "source": [
    "# Text-to-Speech (TTS) with OpenAI API\n",
    "\n",
    "## Introduction\n",
    "Text-to-Speech (TTS) technology converts written text into spoken words. It is used in a variety of applications, including:\n",
    "- Virtual assistants\n",
    "- Accessibility tools for visually impaired individuals\n",
    "- Audiobook creation\n",
    "- Multilingual voice applications\n",
    "\n",
    "OpenAI provides a powerful TTS API that enables developers to create high-quality, natural-sounding speech from text."
   ]
  },
  {
   "cell_type": "markdown",
   "id": "1ab74745",
   "metadata": {},
   "source": [
    "## How Does TTS Work?\n",
    "\n",
    "TTS systems typically involve the following components:\n",
    "1. **Text Analysis**: Breaks text into smaller linguistic units (e.g., sentences, words).\n",
    "2. **Phoneme Conversion**: Converts text into phonemes, the basic sound units of speech.\n",
    "3. **Waveform Generation**: Synthesizes audio waveforms for the phonemes using a speech model.\n",
    "\n",
    "Modern TTS models, like those used by OpenAI, leverage deep learning techniques such as transformer architectures to generate highly natural speech."
   ]
  },
  {
   "cell_type": "markdown",
   "id": "bd62930a",
   "metadata": {},
   "source": [
    "## Prerequisites\n",
    "\n",
    "1. **Install the OpenAI Python Library**:\n",
    "   ```bash\n",
    "   pip install openai\n",
    "   ```\n",
    "2. **API Key**: Obtain an API key from the [OpenAI Platform](https://platform.openai.com/). Workshop-Team is happy to provide this, of course... :) \n",
    "3. **Audio Output Library** (Optional): Install `pydub` for audio playback.\n",
    "   ```bash\n",
    "   pip install pydub\n",
    "   ```"
   ]
  },
  {
   "cell_type": "code",
   "execution_count": null,
   "id": "5537ff9b",
   "metadata": {},
   "outputs": [],
   "source": [
    "import os\n",
    "from openai import OpenAI\n",
    "\n",
    "# Set up the API client\n",
    "# client = OpenAI(api_key=os.environ.get(\"OPENAI_API_KEY\")) as system environment variable\n",
    "client = OpenAI(api_key=\"our-shared-api-key-here\")\n"
   ]
  },
  {
   "cell_type": "code",
   "execution_count": null,
   "id": "c976b4db",
   "metadata": {},
   "outputs": [],
   "source": [
    "def generate_speech(text, voice=\"default\", output_file=\"output.mp3\"):\n",
    "    \"\"\"\n",
    "    Generates speech from text using OpenAI's TTS API.\n",
    "    :param text: The text to convert to speech\n",
    "    :param voice: The voice model to use (default: \"default\")\n",
    "    :param output_file: File to save the generated audio\n",
    "    :return: Path to the generated audio file\n",
    "    \"\"\"\n",
    "    try:\n",
    "        # Send the request to OpenAI TTS API\n",
    "        response = client.audio.speech.create(\n",
    "            model=\"tts-1\",\n",
    "            voice=\"alloy\",\n",
    "            input=text\n",
    "        )\n",
    "        response.with_streaming_response.method(\"output.mp3\")\n",
    "\n",
    "        return output_file\n",
    "    except Exception as e:\n",
    "        return f\"Error generating speech: {e}\"\n",
    "\n",
    "# Example usage\n",
    "text_input = \"Hello, this is a demonstration of OpenAI's Text-to-Speech capabilities.\"\n",
    "output_path = generate_speech(text_input)\n",
    "print(f\"Audio saved to 'output.mp3'\")"
   ]
  },
  {
   "cell_type": "markdown",
   "id": "953fc591",
   "metadata": {},
   "source": [
    "## Challenges and Best Practices\n",
    "\n",
    "### Challenges:\n",
    "- **Latency**: Real-time speech generation can be slow for long texts.\n",
    "- **Customization**: Limited options for voice customization compared to some dedicated TTS tools.\n",
    "- **Cost**: Using the API extensively can incur significant costs. OpenAI: 15$ per 1M tokens TTS-ed but: 1 million tokens is a lot. A simple calculation: rule of thumb is 4 characters per token, on average, and 6 characters per word, which would put 1M tokens to ~670,000 words or ~1300 book-pages. Take-away: be careful anyways :) \n",
    "\n",
    "### Best Practices:\n",
    "- Use short sentences for real-time applications to reduce latency.\n",
    "- Cache audio files if the same text is used repeatedly.\n",
    "- Choose the appropriate voice model for your application.\n"
   ]
  },
  {
   "cell_type": "markdown",
   "id": "6be04e18",
   "metadata": {},
   "source": [
    "## Summary\n",
    "\n",
    "- TTS technology is essential for accessibility and interactive applications.\n",
    "- OpenAI's TTS API provides a simple yet powerful way to convert text into high-quality speech.\n",
    "- By following this guide, you can integrate TTS functionality into your Python applications with ease.\n"
   ]
  }
 ],
 "metadata": {
  "kernelspec": {
   "display_name": "Python 3 (ipykernel)",
   "language": "python",
   "name": "python3"
  },
  "language_info": {
   "codemirror_mode": {
    "name": "ipython",
    "version": 3
   },
   "file_extension": ".py",
   "mimetype": "text/x-python",
   "name": "python",
   "nbconvert_exporter": "python",
   "pygments_lexer": "ipython3",
   "version": "3.12.6"
  }
 },
 "nbformat": 4,
 "nbformat_minor": 5
}
