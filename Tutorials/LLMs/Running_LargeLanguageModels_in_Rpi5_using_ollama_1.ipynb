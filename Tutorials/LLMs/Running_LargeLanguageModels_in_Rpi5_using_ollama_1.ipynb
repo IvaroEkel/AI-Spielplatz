{
  "nbformat": 4,
  "nbformat_minor": 0,
  "metadata": {
    "colab": {
      "private_outputs": true,
      "provenance": [],
      "authorship_tag": "ABX9TyO73iphdXaLnGGAG56XqSee",
      "include_colab_link": true
    },
    "kernelspec": {
      "name": "python3",
      "display_name": "Python 3"
    },
    "language_info": {
      "name": "python"
    }
  },
  "cells": [
    {
      "cell_type": "markdown",
      "metadata": {
        "id": "view-in-github",
        "colab_type": "text"
      },
      "source": [
        "<a href=\"https://colab.research.google.com/github/IvaroEkel/AI-Spielplatz/blob/main/LargeLanguageModels_Rpi5_with_ollama_1.ipynb\" target=\"_parent\"><img src=\"https://colab.research.google.com/assets/colab-badge.svg\" alt=\"Open In Colab\"/></a>"
      ]
    },
    {
      "cell_type": "markdown",
      "source": [
        "# AI with Raspberry Pi 5: Running and Using LLMs\n",
        "\n",
        "Welcome to this tutorial series on deploying and using **Large Language Models (LLMs)** on the **Raspberry Pi 5**.  \n",
        "We'll go from basic setup to building a smart image annotation tool!\n",
        "\n",
        "---\n",
        "\n",
        "## Tutorial Roadmap\n",
        "\n",
        "1. Getting Started with AI on Raspberry Pi 5  \n",
        "2. Running a Lightweight LLM Locally  \n",
        "3. Optimizing LLM Performance on Raspberry Pi  \n",
        "4. Building a Simple Chatbot Interface  \n",
        "5. Project: Smart Image Annotation Tool  \n",
        "6. Advanced Applications: IoT + LLM  \n",
        "7. Bonus: Hybrid Approach with Cloud APIs"
      ],
      "metadata": {
        "id": "C5tPFtMRfGoC"
      }
    },
    {
      "cell_type": "markdown",
      "source": [],
      "metadata": {
        "id": "pbj02Hy9fEx5"
      }
    },
    {
      "cell_type": "markdown",
      "source": [
        "## Preparing the Rpi5 Pi for LLMs\n",
        "\n",
        "### We need\n",
        "- Raspberry Pi 5\n",
        "- Active cooling (fan/heatsink)\n",
        "- SD card (32 GB min, 64 GB recommended)\n",
        "- Raspberry Pi OS (Bookworm or Lite version)\n",
        "- USB keyboard/mouse + HDMI monitor OR SSH\n",
        "\n",
        "---\n",
        "\n",
        "### Commands for setup\n",
        "\n",
        "Update your Pi and install essential packages, by opening  "
      ],
      "metadata": {
        "id": "kS0uRRfngIAB"
      }
    },
    {
      "cell_type": "markdown",
      "source": [
        "```\n",
        "sudo apt update && sudo apt upgrade -y\n",
        "sudo apt install python3-pip python3-venv git htop -y\n",
        "```"
      ],
      "metadata": {
        "id": "Bmqe05gHhSMn"
      }
    }
  ]
}