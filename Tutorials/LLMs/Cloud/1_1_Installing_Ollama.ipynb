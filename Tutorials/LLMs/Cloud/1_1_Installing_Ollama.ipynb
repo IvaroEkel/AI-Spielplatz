{
  "nbformat": 4,
  "nbformat_minor": 0,
  "metadata": {
    "colab": {
      "private_outputs": true,
      "provenance": [],
      "machine_shape": "hm",
      "gpuType": "T4",
      "authorship_tag": "ABX9TyOXBSiH2+dThCWmWOvkPXIW",
      "include_colab_link": true
    },
    "kernelspec": {
      "name": "python3",
      "display_name": "Python 3"
    },
    "language_info": {
      "name": "python"
    },
    "accelerator": "GPU"
  },
  "cells": [
    {
      "cell_type": "markdown",
      "metadata": {
        "id": "view-in-github",
        "colab_type": "text"
      },
      "source": [
        "<a href=\"https://colab.research.google.com/github/IvaroEkel/AI-Spielplatz/blob/main/Tutorials/LLMs/Cloud/1_1_Installing_Ollama.ipynb\" target=\"_parent\"><img src=\"https://colab.research.google.com/assets/colab-badge.svg\" alt=\"Open In Colab\"/></a>"
      ]
    },
    {
      "cell_type": "markdown",
      "source": [
        "# Running LLMs using Google Colab only"
      ],
      "metadata": {
        "id": "dUsk0OFZ_xds"
      }
    },
    {
      "cell_type": "markdown",
      "source": [
        "## Xterm in Colab\n",
        "\n",
        "First, we need to be ale to interact with the Colab host server in a free way,\n",
        "as if in a local computer. We use the colab-xterm package that allows us to interact with full Xterm consoles and leave services running in the session. This is important, since we need the LLM running."
      ],
      "metadata": {
        "id": "ILgt8fVZZ0wU"
      }
    },
    {
      "cell_type": "code",
      "execution_count": null,
      "metadata": {
        "id": "-pLb5GZD7j2X",
        "collapsed": true
      },
      "outputs": [],
      "source": [
        "# First we install the library to open xterm terminals\n",
        "!pip install colab-xterm\n",
        "%load_ext colabxterm"
      ]
    },
    {
      "cell_type": "code",
      "source": [
        "%xterm\n",
        "# sudo apt install pciutils.\n",
        "# curl https://ollama.ai/install.sh | sh\n",
        "# ollama serve & ollama pull llama3.2:1b"
      ],
      "metadata": {
        "id": "vciff8YP_u0K"
      },
      "execution_count": null,
      "outputs": []
    },
    {
      "cell_type": "code",
      "source": [
        "!ollama list"
      ],
      "metadata": {
        "id": "XpqcT5YHBwP2"
      },
      "execution_count": null,
      "outputs": []
    },
    {
      "cell_type": "code",
      "source": [
        "# install package for extending the context of LLMs\n",
        "%pip install -U langchain-ollama"
      ],
      "metadata": {
        "id": "npiOboKKHV47"
      },
      "execution_count": null,
      "outputs": []
    },
    {
      "cell_type": "code",
      "source": [],
      "metadata": {
        "id": "dqyB7cbhHjka"
      },
      "execution_count": null,
      "outputs": []
    }
  ]
}