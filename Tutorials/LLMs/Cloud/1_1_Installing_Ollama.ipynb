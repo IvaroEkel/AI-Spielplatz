{
  "nbformat": 4,
  "nbformat_minor": 0,
  "metadata": {
    "colab": {
      "private_outputs": true,
      "provenance": [],
      "machine_shape": "hm",
      "gpuType": "T4",
      "mount_file_id": "https://github.com/IvaroEkel/AI-Spielplatz/blob/main/Tutorials/LLMs/Cloud/1_1_Installing_Ollama.ipynb",
      "authorship_tag": "ABX9TyMjoM74ppRDbDf/t31o/HDo",
      "include_colab_link": true
    },
    "kernelspec": {
      "name": "python3",
      "display_name": "Python 3"
    },
    "language_info": {
      "name": "python"
    },
    "accelerator": "GPU"
  },
  "cells": [
    {
      "cell_type": "markdown",
      "metadata": {
        "id": "view-in-github",
        "colab_type": "text"
      },
      "source": [
        "<a href=\"https://colab.research.google.com/github/IvaroEkel/AI-Spielplatz/blob/main/Tutorials/LLMs/Cloud/1_1_Installing_Ollama.ipynb\" target=\"_parent\"><img src=\"https://colab.research.google.com/assets/colab-badge.svg\" alt=\"Open In Colab\"/></a>"
      ]
    },
    {
      "cell_type": "markdown",
      "source": [
        "# Running LLMs using Google Colab only"
      ],
      "metadata": {
        "id": "dUsk0OFZ_xds"
      }
    },
    {
      "cell_type": "markdown",
      "source": [
        "## Mount Google Drive"
      ],
      "metadata": {
        "id": "MZBp7gTAzhYd"
      }
    },
    {
      "cell_type": "code",
      "source": [
        "# from google.colab import drive\n",
        "# drive.mount('/content/drive')\n",
        "###\n",
        "# import sys\n",
        "# sys.path.append('/content/drive/MyDrive/Colab_Notebooks_Shared/AI-Spielplatz/Tutorials/LLMs/Cloud/shared_packages')"
      ],
      "metadata": {
        "id": "tj5l8844zkyW"
      },
      "execution_count": null,
      "outputs": []
    },
    {
      "cell_type": "markdown",
      "source": [
        "## Xterm in Colab\n",
        "\n",
        "First, we need to be ale to interact with the Colab host server in a free way,\n",
        "as if in a local computer. We use the colab-xterm package that allows us to interact with full Xterm consoles and leave services running in the session. This is important, since we need the LLM running."
      ],
      "metadata": {
        "id": "ILgt8fVZZ0wU"
      }
    },
    {
      "cell_type": "code",
      "execution_count": null,
      "metadata": {
        "id": "-pLb5GZD7j2X",
        "collapsed": true
      },
      "outputs": [],
      "source": [
        "# First we install the library to open xterm terminals\n",
        "!pip install colab-xterm\n",
        "%load_ext colabxterm"
      ]
    },
    {
      "cell_type": "markdown",
      "source": [
        "### Installing necessary packages"
      ],
      "metadata": {
        "id": "i-K98zr-xGob"
      }
    },
    {
      "cell_type": "code",
      "source": [
        "%xterm\n",
        "## execute the following one-line commands one at a time\n",
        "# sudo apt install pciutils\n",
        "# curl https://ollama.ai/install.sh | sh\n"
      ],
      "metadata": {
        "id": "vciff8YP_u0K",
        "collapsed": true
      },
      "execution_count": null,
      "outputs": []
    },
    {
      "cell_type": "markdown",
      "source": [
        "### Starting ollama server and pulling desired model"
      ],
      "metadata": {
        "id": "2C-6jC2exNfN"
      }
    },
    {
      "cell_type": "code",
      "source": [
        "%xterm\n",
        "# ollama serve & ollama pull llama3.2:1b\n",
        "# or simply\n",
        "# ollama pull llama3.2:1b\n",
        "# is better"
      ],
      "metadata": {
        "collapsed": true,
        "id": "zoK3y2kmxL29"
      },
      "execution_count": null,
      "outputs": []
    },
    {
      "cell_type": "code",
      "source": [
        "%xterm"
      ],
      "metadata": {
        "id": "xOASJZhS1SSN"
      },
      "execution_count": null,
      "outputs": []
    },
    {
      "cell_type": "code",
      "source": [
        "!ollama list"
      ],
      "metadata": {
        "id": "XpqcT5YHBwP2"
      },
      "execution_count": null,
      "outputs": []
    },
    {
      "cell_type": "markdown",
      "source": [
        "### Python libraries"
      ],
      "metadata": {
        "id": "FJ7GCvAD1yfM"
      }
    },
    {
      "cell_type": "code",
      "source": [
        "# %pip install -U ollama"
      ],
      "metadata": {
        "collapsed": true,
        "id": "nBT590vK1tz_"
      },
      "execution_count": null,
      "outputs": []
    },
    {
      "cell_type": "code",
      "source": [
        "# %pip install -U langchain langchain-ollama"
      ],
      "metadata": {
        "collapsed": true,
        "id": "Kqlo4tuO6b5a"
      },
      "execution_count": null,
      "outputs": []
    },
    {
      "cell_type": "code",
      "source": [
        "# from langchain.llms import Ollama\n",
        "# from langchain import PromptTemplate, LLMChain\n",
        "##\n",
        "from langchain_ollama import OllamaLLM\n",
        "##\n",
        "from langchain_core.prompts import ChatPromptTemplate # this imports\n",
        "from langchain_ollama.llms import OllamaLLM"
      ],
      "metadata": {
        "id": "dqyB7cbhHjka"
      },
      "execution_count": null,
      "outputs": []
    },
    {
      "cell_type": "markdown",
      "source": [
        "### Initialize the Ollama LLM:"
      ],
      "metadata": {
        "id": "Vg8zlv9k6tKE"
      }
    },
    {
      "cell_type": "code",
      "source": [
        "llm = OllamaLLM(model=\"llama3.2:1b\")  # Or specify another Ollama model"
      ],
      "metadata": {
        "id": "BEyEdFmj6q7n"
      },
      "execution_count": null,
      "outputs": []
    },
    {
      "cell_type": "markdown",
      "source": [
        "### Define a prompt template and invoke it with a sample question"
      ],
      "metadata": {
        "id": "kZLL9m_LNXT3"
      }
    },
    {
      "cell_type": "code",
      "source": [
        "template = \"\"\"Question: {question}\n",
        "\n",
        "Answer: Let's think step by step.\"\"\"\n",
        "\n",
        "prompt = ChatPromptTemplate.from_template(template)\n",
        "\n",
        "model = OllamaLLM(model=\"llama3.2:1b\")\n",
        "\n",
        "chain = prompt | model\n",
        "\n",
        "chain.invoke({\"question\": \"What is LangChain?\"})"
      ],
      "metadata": {
        "collapsed": true,
        "id": "-m5vOhF27gkt"
      },
      "execution_count": null,
      "outputs": []
    },
    {
      "cell_type": "code",
      "source": [],
      "metadata": {
        "id": "3MRnkDRBNaXq"
      },
      "execution_count": null,
      "outputs": []
    }
  ]
}