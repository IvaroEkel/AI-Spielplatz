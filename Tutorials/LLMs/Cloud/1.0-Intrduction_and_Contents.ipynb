{
  "nbformat": 4,
  "nbformat_minor": 0,
  "metadata": {
    "colab": {
      "private_outputs": true,
      "provenance": [],
      "machine_shape": "hm",
      "gpuType": "T4",
      "toc_visible": true,
      "authorship_tag": "ABX9TyOzlOXPr/CtlzljKxZKwC5/",
      "include_colab_link": true
    },
    "kernelspec": {
      "name": "python3",
      "display_name": "Python 3"
    },
    "language_info": {
      "name": "python"
    },
    "accelerator": "GPU"
  },
  "cells": [
    {
      "cell_type": "markdown",
      "metadata": {
        "id": "view-in-github",
        "colab_type": "text"
      },
      "source": [
        "<a href=\"https://colab.research.google.com/github/IvaroEkel/AI-Spielplatz/blob/main/Tutorials/LLMs/Cloud/1.0-Intrduction_and_Contents.ipynb\" target=\"_parent\"><img src=\"https://colab.research.google.com/assets/colab-badge.svg\" alt=\"Open In Colab\"/></a>"
      ]
    },
    {
      "cell_type": "markdown",
      "source": [
        "# Applications of Large Language Models\n",
        "\n",
        "## Contents\n",
        "\n",
        "*   1.1 Installing Ollama\n",
        "*   1.2 Summarization\n",
        "\n",
        "\n"
      ],
      "metadata": {
        "id": "dUsk0OFZ_xds"
      }
    }
  ]
}